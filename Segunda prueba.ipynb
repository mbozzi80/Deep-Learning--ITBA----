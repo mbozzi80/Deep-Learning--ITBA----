{
 "cells": [
  {
   "cell_type": "code",
   "execution_count": null,
   "id": "honey-neutral",
   "metadata": {},
   "outputs": [],
   "source": [
    "\"Hola Mundo\""
   ]
  },
  {
   "cell_type": "markdown",
   "id": "marine-password",
   "metadata": {},
   "source": [
    "# Funciones"
   ]
  },
  {
   "cell_type": "code",
   "execution_count": 1,
   "id": "raising-treasurer",
   "metadata": {},
   "outputs": [],
   "source": [
    "a = [1,2,3,4,5,6,7,8,9]"
   ]
  },
  {
   "cell_type": "code",
   "execution_count": 2,
   "id": "stunning-motorcycle",
   "metadata": {},
   "outputs": [],
   "source": [
    "b = [20,21,22,23,45,67,98,35,28]"
   ]
  },
  {
   "cell_type": "code",
   "execution_count": 6,
   "id": "smoking-moore",
   "metadata": {},
   "outputs": [],
   "source": [
    "def get_mean(lista):\n",
    "    suma = 0\n",
    "    for elem in lista:\n",
    "        suma = suma + elem\n",
    "    return suma/len(lista)        \n",
    "    "
   ]
  },
  {
   "cell_type": "code",
   "execution_count": 7,
   "id": "elegant-suite",
   "metadata": {},
   "outputs": [
    {
     "data": {
      "text/plain": [
       "5.0"
      ]
     },
     "execution_count": 7,
     "metadata": {},
     "output_type": "execute_result"
    }
   ],
   "source": [
    "get_mean(a)"
   ]
  },
  {
   "cell_type": "code",
   "execution_count": 8,
   "id": "occupied-performance",
   "metadata": {},
   "outputs": [
    {
     "data": {
      "text/plain": [
       "39.888888888888886"
      ]
     },
     "execution_count": 8,
     "metadata": {},
     "output_type": "execute_result"
    }
   ],
   "source": [
    "get_mean(b)"
   ]
  },
  {
   "cell_type": "code",
   "execution_count": 11,
   "id": "great-detroit",
   "metadata": {},
   "outputs": [
    {
     "data": {
      "text/plain": [
       "79.5"
      ]
     },
     "execution_count": 11,
     "metadata": {},
     "output_type": "execute_result"
    }
   ],
   "source": [
    "get_mean([78,79,80,81])"
   ]
  },
  {
   "cell_type": "markdown",
   "id": "rotary-belief",
   "metadata": {},
   "source": [
    "##### Con esto vemos que le podemos poner cualquier cosa que sea numero por cualquier longitud"
   ]
  },
  {
   "cell_type": "code",
   "execution_count": null,
   "id": "applied-harrison",
   "metadata": {},
   "outputs": [],
   "source": []
  }
 ],
 "metadata": {
  "kernelspec": {
   "display_name": "Python 3",
   "language": "python",
   "name": "python3"
  },
  "language_info": {
   "codemirror_mode": {
    "name": "ipython",
    "version": 3
   },
   "file_extension": ".py",
   "mimetype": "text/x-python",
   "name": "python",
   "nbconvert_exporter": "python",
   "pygments_lexer": "ipython3",
   "version": "3.7.6"
  }
 },
 "nbformat": 4,
 "nbformat_minor": 5
}
